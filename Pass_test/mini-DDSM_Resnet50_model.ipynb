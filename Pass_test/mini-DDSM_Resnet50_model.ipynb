{
 "cells": [
  {
   "cell_type": "code",
   "execution_count": null,
   "metadata": {},
   "outputs": [],
   "source": [
    "import cv2\n",
    "import matplotlib.pyplot as plt\n",
    "import pandas as pd\n",
    "import tensorflow as tf\n",
    "import keras\n",
    "import os\n",
    "import numpy as np\n",
    "from tensorflow.image import resize_with_pad, grayscale_to_rgb\n",
    "from tensorflow.keras.layers import Input, Lambda, Dense, Flatten, Dropout, Conv2D, GlobalAveragePooling2D\n",
    "from tensorflow.keras.models import Model, load_model\n",
    "from tensorflow.keras.applications.resnet50 import ResNet50, preprocess_input\n",
    "# from tensorflow.keras.applications.inception_v3 import InceptionV3\n",
    "from tensorflow.keras.models import Sequential\n",
    "\n",
    "PATH = \"/mnt/d/Datasets/mini-DDSM/\"\n",
    "imgPATH = PATH + \"MINI-DDSM-Complete-PNG-16/\"\n",
    "roi_path = PATH + \"ROI/\"\n",
    "data_path = PATH + \"fullimg/\"\n",
    "save_dir = \"/home/jj/FYP/Models/\"\n",
    "image_size = 224\n",
    "batch_size = 1\n",
    "\n",
    "gpus = tf.config.list_physical_devices('GPU')\n",
    "for gpu in gpus:\n",
    "    tf.config.experimental.set_memory_growth(gpu, True)\n",
    "\n",
    "os.environ['TF_ENABLE_GPU_GARBAGE_COLLECTION'] = 'false'"
   ]
  },
  {
   "cell_type": "code",
   "execution_count": null,
   "metadata": {},
   "outputs": [],
   "source": [
    "train_ds = tf.keras.utils.image_dataset_from_directory(\n",
    "  roi_path,\n",
    "  # data_path,\n",
    "  validation_split=0.2,\n",
    "  subset=\"training\",\n",
    "  seed=123,\n",
    "  image_size=(image_size, image_size),\n",
    "  batch_size=batch_size)\n",
    "  \n",
    "val_ds = tf.keras.utils.image_dataset_from_directory(\n",
    "  roi_path,\n",
    "  # data_path,\n",
    "  validation_split=0.2,\n",
    "  subset=\"validation\",\n",
    "  seed=123,\n",
    "  image_size=(image_size, image_size),\n",
    "  batch_size=batch_size)"
   ]
  },
  {
   "cell_type": "code",
   "execution_count": null,
   "metadata": {},
   "outputs": [],
   "source": [
    "AUTOTUNE = tf.data.AUTOTUNE\n",
    "train_ds_aug = train_ds.prefetch(buffer_size=AUTOTUNE).shuffle(1000)\n",
    "val_ds_aug = val_ds.prefetch(buffer_size=AUTOTUNE).shuffle(1000)"
   ]
  },
  {
   "cell_type": "code",
   "execution_count": null,
   "metadata": {},
   "outputs": [],
   "source": [
    "preprocessing = preprocess_input\n",
    "pre_trained = ResNet50(weights='imagenet', include_top=False, input_shape=(image_size,image_size,3))\n",
    "pre_trained.trainable = False\n",
    "data_augmentation = tf.keras.Sequential([\n",
    "  tf.keras.layers.RandomFlip('horizontal_and_vertical'),\n",
    "  tf.keras.layers.RandomRotation((0,0.),fill_mode=\"reflect\"),\n",
    "  tf.keras.layers.RandomZoom(height_factor=(-0.5,0.5),width_factor=(-0.5,0.5),fill_mode=\"reflect\"),\n",
    "  tf.keras.layers.RandomTranslation(height_factor=(-0.25,0.25),width_factor=(-0.25,0.25),fill_mode=\"reflect\")\n",
    "  ])\n",
    "#Define model architect\n",
    "tfinput = Input(shape=(image_size,image_size,3) )\n",
    "data_augment = data_augmentation(tfinput)\n",
    "pre_process = preprocessing(data_augment)\n",
    "resnet50_model=pre_trained(pre_process,training=False)\n",
    "flatten = tf.keras.layers.GlobalAveragePooling2D()(resnet50_model)\n",
    "DO1 = Dropout(0.8)(flatten)\n",
    "Dense1 = Dense(1024,activation = 'relu')(DO1)\n",
    "x=Dropout(0.7)(Dense1)\n",
    "x = Dense(512,activation='relu')(x)\n",
    "DO2 = Dropout(0.7)(x)\n",
    "output = Dense(1, activation=\"sigmoid\")(DO2)\n",
    "model = Model(tfinput,output)\n",
    "model.summary()"
   ]
  },
  {
   "cell_type": "code",
   "execution_count": null,
   "metadata": {},
   "outputs": [],
   "source": [
    "model.compile(\n",
    "    optimizer= tf.keras.optimizers.Adam(learning_rate = 1e-4),\n",
    "    loss=tf.keras.losses.BinaryCrossentropy(),\n",
    "    metrics=[tf.keras.metrics.BinaryAccuracy(),tf.keras.metrics.FalsePositives(),tf.keras.metrics.FalseNegatives()]\n",
    ")\n",
    "model.summary()\n",
    "checkpoint_path = \"/home/jj/FYP/Checkpoint/ResNet50/dense_init_checkpoint/cp-{epoch:04d}.ckpt\"\n",
    "checkpoint_dir = os.path.dirname(checkpoint_path)\n",
    "cp_callback = tf.keras.callbacks.ModelCheckpoint(\n",
    "    filepath=checkpoint_path, \n",
    "    verbose=1, \n",
    "    save_weights_only=True,\n",
    "    save_freq='epoch')"
   ]
  },
  {
   "cell_type": "code",
   "execution_count": null,
   "metadata": {},
   "outputs": [],
   "source": [
    "#Training Dense layers to initialise the categoriser before fine tuning the CNN models\n",
    "total_epochs = 10\n",
    "dense_init = model.fit(train_ds_aug\n",
    "                    ,epochs=total_epochs\n",
    "                    ,validation_data=val_ds\n",
    "                    ,callbacks = [cp_callback]\n",
    "                    )\n",
    "# model.save(save_dir + \"inceptionv3\")\n",
    "plt.figure(figsize=(30,10))\n",
    "plt.subplot(131)\n",
    "plt.plot(dense_init.history['loss'])\n",
    "plt.subplot(132)\n",
    "plt.plot(dense_init.history['val_loss'])\n",
    "plt.subplot(133)\n",
    "plt.plot(dense_init.history['val_binary_accuracy'])"
   ]
  },
  {
   "cell_type": "code",
   "execution_count": null,
   "metadata": {},
   "outputs": [],
   "source": [
    "#load model with best performance\n",
    "model.load_weights(\"/home/jj/FYP/Checkpoint/ResNet50/dense_init_checkpoint/cp-0009.ckpt\")\n",
    "pre_trained.trainable = True\n",
    "for layer in pre_trained.layers:\n",
    "  if isinstance(layer, tf.keras.layers.BatchNormalization):\n",
    "      layer.trainable = False\n",
    "for layer in pre_trained.layers[:-22]:\n",
    "  layer.trainable = False\n",
    "model.compile(\n",
    "    optimizer= tf.keras.optimizers.Adam(learning_rate = 1e-5),\n",
    "    loss=tf.keras.losses.BinaryCrossentropy(),\n",
    "    metrics=[tf.keras.metrics.BinaryAccuracy(),tf.keras.metrics.FalsePositives(),tf.keras.metrics.FalseNegatives()]\n",
    ")\n",
    "model.summary()\n",
    "checkpoint_path = \"/home/jj/FYP/Checkpoint/ResNet50/fine_tuning_training_2_checkpoint/cp-{epoch:04d}.ckpt\"\n",
    "checkpoint_dir = os.path.dirname(checkpoint_path)\n",
    "cp_callback = tf.keras.callbacks.ModelCheckpoint(\n",
    "    filepath=checkpoint_path, \n",
    "    verbose=1, \n",
    "    save_weights_only=True,\n",
    "    save_freq='epoch')\n",
    "total_epochs = 100\n",
    "history_init = model.fit(train_ds_aug\n",
    "                    ,epochs=total_epochs\n",
    "                    # ,initial_epoch=38\n",
    "                    ,validation_data=val_ds_aug\n",
    "                    ,callbacks = [cp_callback]\n",
    "                    )\n",
    "# model.save(save_dir + \"inceptionv3\")\n",
    "plt.figure(figsize=(30,10))\n",
    "plt.subplot(131)\n",
    "plt.plot(history_init.history['loss'])\n",
    "plt.subplot(132)\n",
    "plt.plot(history_init.history['val_loss'])\n",
    "plt.subplot(133)\n",
    "plt.plot(history_init.history['val_binary_accuracy'])"
   ]
  }
 ],
 "metadata": {
  "kernelspec": {
   "display_name": "wsl_tf",
   "language": "python",
   "name": "python3"
  },
  "language_info": {
   "codemirror_mode": {
    "name": "ipython",
    "version": 3
   },
   "file_extension": ".py",
   "mimetype": "text/x-python",
   "name": "python",
   "nbconvert_exporter": "python",
   "pygments_lexer": "ipython3",
   "version": "3.9.15 (main, Nov 24 2022, 14:31:59) \n[GCC 11.2.0]"
  },
  "orig_nbformat": 4,
  "vscode": {
   "interpreter": {
    "hash": "536095fdb6bd2f165a1201bb0062de5a189a09ebe7161d2185db54f5809b867b"
   }
  }
 },
 "nbformat": 4,
 "nbformat_minor": 2
}
