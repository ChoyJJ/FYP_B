{
 "cells": [
  {
   "cell_type": "code",
   "execution_count": 23,
   "metadata": {},
   "outputs": [],
   "source": [
    "import os\n",
    "import shutil\n",
    "import numpy as np"
   ]
  },
  {
   "cell_type": "code",
   "execution_count": 24,
   "metadata": {},
   "outputs": [],
   "source": [
    "mis_val_benign_path = '/mnt/c/Users/user/Desktop/CBIS_DDSM_misclassified/convnext/val/benign/'\n",
    "mis_val_benign = os.listdir(mis_val_benign_path)\n",
    "mis_val_malignant_path = '/mnt/c/Users/user/Desktop/CBIS_DDSM_misclassified/convnext/val/malignant/'\n",
    "mis_val_malignant = os.listdir(mis_val_malignant_path)\n",
    "mis_train_benign_path = '/mnt/c/Users/user/Desktop/CBIS_DDSM_misclassified/convnext/train/benign/'\n",
    "mis_train_benign = os.listdir(mis_train_benign_path)\n",
    "mis_train_malignant_path = '/mnt/c/Users/user/Desktop/CBIS_DDSM_misclassified/convnext/train/malignant/'\n",
    "mis_train_malignant = os.listdir(mis_train_malignant_path)\n",
    "val_benign_path = '/mnt/d/CBIS-DDSM/new_ROI/resize_with_padding/val/benign/'\n",
    "val_benign = os.listdir(val_benign_path)\n",
    "val_malignant_path = '/mnt/d/CBIS-DDSM/new_ROI/resize_with_padding/val/malignant/'\n",
    "val_malignant = os.listdir(val_malignant_path)\n",
    "train_benign_path = '/mnt/d/CBIS-DDSM/new_ROI/resize_with_padding/train/benign/'\n",
    "train_benign = os.listdir(train_benign_path)\n",
    "train_malignant_path = '/mnt/d/CBIS-DDSM/new_ROI/resize_with_padding/train/malignant/'\n",
    "train_malignant = os.listdir(train_malignant_path)"
   ]
  },
  {
   "cell_type": "code",
   "execution_count": 25,
   "metadata": {},
   "outputs": [
    {
     "name": "stdout",
     "output_type": "stream",
     "text": [
      "387\n"
     ]
    }
   ],
   "source": [
    "print(len(train_benign))"
   ]
  },
  {
   "cell_type": "code",
   "execution_count": 26,
   "metadata": {},
   "outputs": [],
   "source": [
    "rand = np.random.default_rng(seed=42)\n",
    "train_benign = rand.permutation(train_benign)\n",
    "cnt = 0\n",
    "for i in range(len(mis_val_benign)):\n",
    "    for x in train_benign[cnt:]:\n",
    "        if x in mis_train_benign:\n",
    "            cnt+=1\n",
    "        else:\n",
    "            break\n",
    "    shutil.move(train_benign_path+train_benign[cnt],val_benign_path+train_benign[cnt])\n",
    "    cnt+=1\n",
    "train_malignant = rand.permutation(train_malignant)\n",
    "cnt = 0\n",
    "for i in range(len(mis_val_malignant)):\n",
    "    for x in train_malignant[cnt:]:\n",
    "        if x in mis_train_malignant:\n",
    "            cnt+=1\n",
    "        else:\n",
    "            break\n",
    "    shutil.move(train_malignant_path+train_malignant[cnt],val_malignant_path+train_malignant[cnt])\n",
    "    cnt+=1\n",
    "for x in mis_val_benign:\n",
    "    shutil.move(val_benign_path+x,train_benign_path+x) \n",
    "for x in mis_val_malignant:\n",
    "    shutil.move(val_malignant_path+x,train_malignant_path+x) "
   ]
  },
  {
   "cell_type": "code",
   "execution_count": null,
   "metadata": {},
   "outputs": [],
   "source": [
    "test= [0,1,2,3]\n",
    "test2 = [0,0,1,2,3,2,4,2,3,4,5]\n",
    "cnt =0 \n",
    "for i in range(2):\n",
    "    for x in test2[cnt:]:\n",
    "        if x in test:\n",
    "            cnt +=1\n",
    "        else:\n",
    "            break\n",
    "    print(cnt)\n",
    "    cnt+=1\n",
    "     \n"
   ]
  }
 ],
 "metadata": {
  "kernelspec": {
   "display_name": "tf",
   "language": "python",
   "name": "python3"
  },
  "language_info": {
   "codemirror_mode": {
    "name": "ipython",
    "version": 3
   },
   "file_extension": ".py",
   "mimetype": "text/x-python",
   "name": "python",
   "nbconvert_exporter": "python",
   "pygments_lexer": "ipython3",
   "version": "3.9.16"
  },
  "orig_nbformat": 4
 },
 "nbformat": 4,
 "nbformat_minor": 2
}
